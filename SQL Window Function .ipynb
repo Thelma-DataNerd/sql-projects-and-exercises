{
 "cells": [
  {
   "cell_type": "markdown",
   "id": "b890ef83",
   "metadata": {},
   "source": [
    "### Exercise\n",
    "Using the Northwind Database\n",
    "-- Rank all the orders of a specific customer from the most recent to the least recent using window functions. \n",
    "   Assume that the customer ID is 'ALFKI'."
   ]
  },
  {
   "cell_type": "code",
   "execution_count": null,
   "id": "bbafafa5",
   "metadata": {},
   "outputs": [],
   "source": [
    "%load_ext sql"
   ]
  },
  {
   "cell_type": "code",
   "execution_count": null,
   "id": "f3da2612",
   "metadata": {},
   "outputs": [],
   "source": [
    "%sql sqlite:///Northwind.db"
   ]
  },
  {
   "cell_type": "code",
   "execution_count": null,
   "id": "70fa9926",
   "metadata": {},
   "outputs": [],
   "source": [
    "%%sql\n",
    "\n",
    "SELECT *\n",
    "FROM orderDetails\n",
    "LIMIT 3;"
   ]
  },
  {
   "cell_type": "code",
   "execution_count": null,
   "id": "6414bcc6",
   "metadata": {},
   "outputs": [],
   "source": [
    "%%sql\n",
    "--Rank all the orders FOR \"ALFKI\"\n",
    "SELECT \n",
    "    orderID, orderDate, \n",
    "    RANK()OVER(ORDER BY orderDate DESC) AS Order_rank\n",
    "FROM \n",
    "    orders\n",
    "WHERE \n",
    "    CustomerID = \"ALFKI\";"
   ]
  },
  {
   "cell_type": "markdown",
   "id": "2ad7e563",
   "metadata": {},
   "source": [
    "-- Calculate a running total of the quantity of orders using window functions"
   ]
  },
  {
   "cell_type": "code",
   "execution_count": null,
   "id": "333257f0",
   "metadata": {},
   "outputs": [],
   "source": [
    "%%sql\n",
    "--Running total of the quantity of orders\n",
    "SELECT\n",
    "    OrderID,\n",
    "    Quantity,\n",
    "    SUM(Quantity) OVER (\n",
    "    ORDER BY OrderID) AS RunningTotal\n",
    "FROM\n",
    "    OrderDetails\n",
    "GROUP BY\n",
    "    OrderID;"
   ]
  },
  {
   "cell_type": "markdown",
   "id": "5c210466",
   "metadata": {},
   "source": [
    "-- To find the difference in successive order dates for each customer"
   ]
  },
  {
   "cell_type": "code",
   "execution_count": null,
   "id": "487e46f3",
   "metadata": {},
   "outputs": [],
   "source": [
    "%%sql\n",
    "--difference in successive order dates for each customer\n",
    "SELECT \n",
    "    CustomerID,\n",
    "    OrderDate,\n",
    "    LAG(OrderDate,1)OVER\n",
    "        (PARTITION BY CustomerID \n",
    "        ORDER BY OrderDate) AS PrevOrderDate,\n",
    "    julianday(OrderDate)-\n",
    "    julianday(LAG(OrderDate,1)OVER\n",
    "             (PARTITION BY CustomerID \n",
    "             ORDER BY OrderDate)) AS Date_Diff\n",
    "FROM \n",
    "    Orders;"
   ]
  },
  {
   "cell_type": "markdown",
   "id": "a737503f",
   "metadata": {},
   "source": [
    "--Calculate the moving average of the quantity of the last 3 orders for each product using window functions."
   ]
  },
  {
   "cell_type": "code",
   "execution_count": null,
   "id": "d82cc6bf",
   "metadata": {},
   "outputs": [],
   "source": [
    "%%sql\n",
    "--moving average of the quantity of the last 3 orders for each product\n",
    "SELECT\n",
    "    OrderID,\n",
    "    ProductID,\n",
    "    Quantity,\n",
    "    AVG(Quantity) OVER (\n",
    "        PARTITION BY ProductID \n",
    "        ORDER BY OrderID \n",
    "        ROWS BETWEEN 2 PRECEDING AND 0 FOLLOWING) AS MovingAvgQuantity\n",
    "FROM\n",
    "    OrderDetails\n",
    "ORDER BY\n",
    "    ProductID,\n",
    "    OrderID;"
   ]
  },
  {
   "cell_type": "code",
   "execution_count": null,
   "id": "3f3e51b9",
   "metadata": {},
   "outputs": [],
   "source": []
  }
 ],
 "metadata": {
  "kernelspec": {
   "display_name": "Python 3 (ipykernel)",
   "language": "python",
   "name": "python3"
  },
  "language_info": {
   "codemirror_mode": {
    "name": "ipython",
    "version": 3
   },
   "file_extension": ".py",
   "mimetype": "text/x-python",
   "name": "python",
   "nbconvert_exporter": "python",
   "pygments_lexer": "ipython3",
   "version": "3.9.18"
  }
 },
 "nbformat": 4,
 "nbformat_minor": 5
}
